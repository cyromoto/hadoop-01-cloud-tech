{
 "cells": [
  {
   "cell_type": "code",
   "execution_count": 2,
   "metadata": {},
   "outputs": [],
   "source": [
    "from sklearn.feature_extraction.text import TfidfVectorizer\n",
    "import pandas as pd\n",
    "import numpy as np\n",
    "from sklearn.svm import SVR\n",
    "import time"
   ]
  },
  {
   "cell_type": "code",
   "execution_count": 3,
   "metadata": {},
   "outputs": [
    {
     "name": "stderr",
     "output_type": "stream",
     "text": [
      "C:\\Users\\cyrus\\AppData\\Local\\Temp\\ipykernel_4260\\835099370.py:4: DtypeWarning: Columns (7) have mixed types. Specify dtype option on import or set low_memory=False.\n",
      "  df_test = pd.read_csv(\".\\\\amazon_reviews_us_Music.tsv\", sep='\\t', on_bad_lines='skip')\n"
     ]
    }
   ],
   "source": [
    "start_time = time.time()\n",
    "\n",
    "df=pd.read_table(\".\\\\cleanSpamHam.csv\" ,sep=',', names=['mail','label'])\n",
    "df_test = pd.read_csv(\".\\\\amazon_reviews_us_Music.tsv\", sep='\\t', on_bad_lines='skip')\n",
    "df = df.iloc[1:]\n",
    "df.label.value_counts()\n",
    "df['HM'] = df.label.map({'ham':0,'spam':1})"
   ]
  },
  {
   "cell_type": "code",
   "execution_count": 4,
   "metadata": {},
   "outputs": [],
   "source": [
    "df_test.dropna()\n",
    "df_test['review_body'] = df_test['review_body'].apply(lambda x: np.str_(x))\n",
    "\n",
    "df.dropna()\n",
    "df.drop(columns=['label'], inplace=True)"
   ]
  },
  {
   "cell_type": "code",
   "execution_count": 6,
   "metadata": {},
   "outputs": [
    {
     "name": "stdout",
     "output_type": "stream",
     "text": [
      "lamda started\n",
      "lamda ended\n",
      "lamda ended1\n",
      "lamda ended2\n",
      "lamda ended3\n",
      "lamda ended4\n"
     ]
    }
   ],
   "source": [
    "tfidf = TfidfVectorizer()\n",
    "\n",
    "print(\"lamda started\")\n",
    "df['mail'] = df['mail'].apply(lambda x: np.str_(x))\n",
    "\n",
    "print(\"lamda ended\")\n",
    " \n",
    "# get tf-df values\n",
    "print(\"lamda ended1\")\n",
    "result = tfidf.fit_transform(df['mail'])\n",
    "print(\"lamda ended2\")\n",
    "feature_names = tfidf.get_feature_names_out()\n",
    "print(\"lamda ended3\")\n",
    "# denselist = dense.tolist()  #memmory error\n",
    "\n",
    "test_vector_tf = tfidf.transform(df_test['review_body'])\n",
    "print(\"lamda ended4\")\n"
   ]
  },
  {
   "cell_type": "code",
   "execution_count": 7,
   "metadata": {},
   "outputs": [
    {
     "name": "stdout",
     "output_type": "stream",
     "text": [
      "lamda ended5\n"
     ]
    }
   ],
   "source": [
    "prediction_model = SVR(kernel='linear', cache_size=10000).fit(result, df['HM'])\n",
    "print(\"lamda ended5\")\n",
    "predicted = prediction_model.predict(test_vector_tf)\n",
    "print(\"lamda ended6\")"
   ]
  }
 ],
 "metadata": {
  "kernelspec": {
   "display_name": "Python 3.10.7 64-bit",
   "language": "python",
   "name": "python3"
  },
  "language_info": {
   "codemirror_mode": {
    "name": "ipython",
    "version": 3
   },
   "file_extension": ".py",
   "mimetype": "text/x-python",
   "name": "python",
   "nbconvert_exporter": "python",
   "pygments_lexer": "ipython3",
   "version": "3.10.7"
  },
  "orig_nbformat": 4,
  "vscode": {
   "interpreter": {
    "hash": "369f2c481f4da34e4445cda3fffd2e751bd1c4d706f27375911949ba6bb62e1c"
   }
  }
 },
 "nbformat": 4,
 "nbformat_minor": 2
}
