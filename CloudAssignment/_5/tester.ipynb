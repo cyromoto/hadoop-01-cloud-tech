{
 "cells": [
  {
   "cell_type": "code",
   "execution_count": 50,
   "metadata": {},
   "outputs": [
    {
     "name": "stderr",
     "output_type": "stream",
     "text": [
      "[nltk_data] Downloading package punkt to\n",
      "[nltk_data]     C:\\Users\\cyrus\\AppData\\Roaming\\nltk_data...\n",
      "[nltk_data]   Package punkt is already up-to-date!\n"
     ]
    }
   ],
   "source": [
    "import pandas as pd\n",
    "import numpy as np\n",
    "import sys\n",
    "from sklearn.feature_extraction.text import TfidfVectorizer\n",
    "from nltk.tokenize import word_tokenize\n",
    "import nltk\n",
    "nltk.download('punkt')\n",
    "from nltk.corpus import stopwords\n",
    "import string\n",
    "import re"
   ]
  },
  {
   "cell_type": "code",
   "execution_count": 51,
   "metadata": {},
   "outputs": [],
   "source": [
    "df=pd.read_csv(\".\\\\spam.csv\",index_col=False)"
   ]
  },
  {
   "cell_type": "code",
   "execution_count": 52,
   "metadata": {},
   "outputs": [],
   "source": [
    "stopwordsList = set(stopwords.words('english'))\n",
    "\n",
    "punctiuations = string.punctuation \n",
    "punctiuationsList = list(punctiuations)\n",
    "stopwordsList.update(punctiuationsList)\n"
   ]
  },
  {
   "cell_type": "code",
   "execution_count": 53,
   "metadata": {},
   "outputs": [],
   "source": [
    "def clean_body(word):\n",
    "    result = re.sub(r'[^0-9A-Za-z ]+', '', word)\n",
    "    # result = re.sub(r'[0-9A-Za-z]{0,2}', '', result)\n",
    "    result = re.sub(r'[0-9]+','',result)\n",
    "    result = re.sub(r'(br)','',result)\n",
    "\n",
    "\n",
    "    return result"
   ]
  },
  {
   "cell_type": "code",
   "execution_count": 54,
   "metadata": {},
   "outputs": [],
   "source": [
    "count=[]\n",
    "# tfidf = TfidfVectorizer()\n",
    "for ind in df.index:\n",
    "    df['review_body'][ind]=clean_body(df['review_body'][ind])\n",
    "    df['review_body'][ind]=[w for w in word_tokenize(df['review_body'][ind]) if not w.lower() in stopwordsList]\n",
    "    # df['tfidf'][ind]=tfidf.fit_transform(df['review_body'][ind])\n",
    "    count.append(pd.value_counts(np.array(df['review_body'][ind]),normalize=True))"
   ]
  },
  {
   "cell_type": "code",
   "execution_count": 55,
   "metadata": {},
   "outputs": [
    {
     "name": "stdout",
     "output_type": "stream",
     "text": [
      "[album         0.020004\n",
      "music         0.009587\n",
      "funk          0.008304\n",
      "one           0.007907\n",
      "sound         0.006279\n",
      "                ...   \n",
      "towing        0.000001\n",
      "fads          0.000001\n",
      "Flirtation    0.000001\n",
      "wittiest      0.000001\n",
      "fronting      0.000001\n",
      "Length: 38826, dtype: float64, SIDE        0.011962\n",
      "TWO         0.005689\n",
      "TIME        0.005494\n",
      "ONE         0.005243\n",
      "Love        0.004981\n",
      "              ...   \n",
      "hangs       0.000001\n",
      "StarsOn     0.000001\n",
      "Ge          0.000001\n",
      "BGJ         0.000001\n",
      "SimonYOU    0.000001\n",
      "Length: 42586, dtype: float64, one                0.008601\n",
      "album              0.006408\n",
      "musical            0.005904\n",
      "music              0.004024\n",
      "work               0.003574\n",
      "                     ...   \n",
      "eggs               0.000004\n",
      "basket             0.000004\n",
      "Fitzgerlad         0.000004\n",
      "experimentalism    0.000004\n",
      "perfections        0.000004\n",
      "Length: 20154, dtype: float64, CD             0.012236\n",
      "like           0.008377\n",
      "vocals         0.006591\n",
      "guitar         0.006118\n",
      "fans           0.005681\n",
      "                 ...   \n",
      "Spacemantra    0.000003\n",
      "wth            0.000003\n",
      "Teti           0.000003\n",
      "Shugarts       0.000003\n",
      "touced         0.000003\n",
      "Length: 25110, dtype: float64, ASIN         9.609997e-03\n",
      "one          7.196858e-03\n",
      "music        6.890290e-03\n",
      "first        5.812180e-03\n",
      "recording    4.651320e-03\n",
      "                 ...     \n",
      "Schifffs     7.880922e-07\n",
      "abusive      7.880922e-07\n",
      "redeems      7.880922e-07\n",
      "irgendwo     7.880922e-07\n",
      "BAESC        7.880922e-07\n",
      "Length: 50826, dtype: float64, B                1.282920e-02\n",
      "bw               1.182595e-02\n",
      "R                8.471219e-03\n",
      "Hot              7.820845e-03\n",
      "Love             6.326513e-03\n",
      "                     ...     \n",
      "Frenette         5.274732e-07\n",
      "Ferierra         5.274732e-07\n",
      "annoyed          5.274732e-07\n",
      "accomplishing    5.274732e-07\n",
      "luding           5.274732e-07\n",
      "Length: 44062, dtype: float64, recording          0.007075\n",
      "sound              0.006691\n",
      "voice              0.005266\n",
      "one                0.005245\n",
      "music              0.004673\n",
      "                     ...   \n",
      "transfiguration    0.000002\n",
      "rewrote            0.000002\n",
      "pander             0.000002\n",
      "sequel             0.000002\n",
      "Romain             0.000002\n",
      "Length: 32431, dtype: float64, songs        0.015541\n",
      "album        0.014220\n",
      "music        0.013080\n",
      "song         0.011898\n",
      "one          0.009324\n",
      "               ...   \n",
      "rivalries    0.000001\n",
      "BDDC         0.000001\n",
      "bums         0.000001\n",
      "Iraqi        0.000001\n",
      "Prospects    0.000001\n",
      "Length: 23806, dtype: float64, amp          0.014882\n",
      "one          0.009946\n",
      "still        0.009628\n",
      "song         0.007816\n",
      "songs        0.007345\n",
      "               ...   \n",
      "LAWDD        0.000004\n",
      "Fredricks    0.000004\n",
      "Backseat     0.000004\n",
      "cocker       0.000004\n",
      "steviw       0.000004\n",
      "Length: 17240, dtype: float64, one           7.120016e-03\n",
      "sound         5.799767e-03\n",
      "music         4.237059e-03\n",
      "first         3.974473e-03\n",
      "two           3.854617e-03\n",
      "                  ...     \n",
      "Tuesday       9.149340e-07\n",
      "Flashier      9.149340e-07\n",
      "planeload     9.149340e-07\n",
      "humbug        9.149340e-07\n",
      "forseeable    9.149340e-07\n",
      "Length: 45008, dtype: float64]\n"
     ]
    }
   ],
   "source": [
    "\n",
    "print(count)"
   ]
  },
  {
   "cell_type": "code",
   "execution_count": 56,
   "metadata": {},
   "outputs": [
    {
     "name": "stdout",
     "output_type": "stream",
     "text": [
      "[['album', 'music', 'funk', 'one', 'sound', 'musical', 'songs', 'time', 'well', 'song', 'even'], ['SIDE', 'TWO', 'TIME', 'ONE', 'Love', 'TOTAL', 'ASIN', 'na', 'LP', 'orch', 'first'], ['one', 'album', 'musical', 'music', 'work', 'performance', 'version', 'first', 'well', 'made', 'us'], ['CD', 'like', 'vocals', 'guitar', 'fans', 'good', 'one', 'title', 'two', 'minute', 'bands'], ['ASIN', 'one', 'music', 'first', 'recording', 'also', 'CD', 'movement', 'like', 'two', 'Concerto'], ['B', 'bw', 'R', 'Hot', 'Love', 'hit', 'one', 'sides', 'also', 'would', 'Pop'], ['recording', 'sound', 'voice', 'one', 'music', 'much', 'first', 'recordings', 'even', 'two', 'performance'], ['songs', 'album', 'music', 'song', 'one', 'country', 'hits', 'hit', 'tracks', 'recorded', 'Christmas'], ['amp', 'one', 'still', 'song', 'songs', 'always', 'like', 'back', 'Music', 'cut', 'time'], ['one', 'sound', 'music', 'first', 'two', 'recording', 'like', 'much', 'great', 'good', 'movement']]\n"
     ]
    }
   ],
   "source": [
    "words=[]\n",
    "counter=0\n",
    "for j in count:\n",
    "    topwords=[]\n",
    "    counter=0\n",
    "    for i in j.index:\n",
    "        if counter<=10:\n",
    "            topwords.append(i)\n",
    "            counter+=1\n",
    "    words.append(topwords)\n",
    "# words = (w.index for w in words)\n",
    "print(words)\n"
   ]
  }
 ],
 "metadata": {
  "kernelspec": {
   "display_name": "Python 3.10.7 64-bit",
   "language": "python",
   "name": "python3"
  },
  "language_info": {
   "codemirror_mode": {
    "name": "ipython",
    "version": 3
   },
   "file_extension": ".py",
   "mimetype": "text/x-python",
   "name": "python",
   "nbconvert_exporter": "python",
   "pygments_lexer": "ipython3",
   "version": "3.10.7"
  },
  "orig_nbformat": 4,
  "vscode": {
   "interpreter": {
    "hash": "369f2c481f4da34e4445cda3fffd2e751bd1c4d706f27375911949ba6bb62e1c"
   }
  }
 },
 "nbformat": 4,
 "nbformat_minor": 2
}
